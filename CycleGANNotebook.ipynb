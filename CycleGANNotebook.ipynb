{
 "cells": [
  {
   "cell_type": "markdown",
   "metadata": {
    "id": "5VIGyIus8Vr7"
   },
   "source": [
    "Take a look at the [repository](https://github.com/junyanz/pytorch-CycleGAN-and-pix2pix) for more information"
   ]
  },
  {
   "cell_type": "markdown",
   "metadata": {
    "id": "7wNjDKdQy35h"
   },
   "source": [
    "# Install"
   ]
  },
  {
   "cell_type": "code",
   "execution_count": null,
   "metadata": {
    "execution": {
     "iopub.execute_input": "2023-04-18T23:47:24.481261Z",
     "iopub.status.busy": "2023-04-18T23:47:24.480680Z",
     "iopub.status.idle": "2023-04-18T23:47:26.599896Z",
     "shell.execute_reply": "2023-04-18T23:47:26.598680Z",
     "shell.execute_reply.started": "2023-04-18T23:47:24.481205Z"
    },
    "id": "TRm-USlsHgEV",
    "outputId": "22a5a937-6763-479d-b221-44696d8446ac"
   },
   "outputs": [],
   "source": [
    "!git clone https://github.com/junyanz/pytorch-CycleGAN-and-pix2pix"
   ]
  },
  {
   "cell_type": "code",
   "execution_count": null,
   "metadata": {
    "execution": {
     "iopub.execute_input": "2023-04-18T23:47:28.720803Z",
     "iopub.status.busy": "2023-04-18T23:47:28.719629Z",
     "iopub.status.idle": "2023-04-18T23:47:28.726236Z",
     "shell.execute_reply": "2023-04-18T23:47:28.725167Z",
     "shell.execute_reply.started": "2023-04-18T23:47:28.720753Z"
    },
    "id": "Pt3igws3eiVp"
   },
   "outputs": [],
   "source": [
    "import os\n",
    "os.chdir('/kaggle/working/pytorch-CycleGAN-and-pix2pix/')"
   ]
  },
  {
   "cell_type": "code",
   "execution_count": null,
   "metadata": {
    "execution": {
     "iopub.execute_input": "2023-04-18T23:47:31.765702Z",
     "iopub.status.busy": "2023-04-18T23:47:31.764980Z",
     "iopub.status.idle": "2023-04-18T23:47:32.740588Z",
     "shell.execute_reply": "2023-04-18T23:47:32.739116Z",
     "shell.execute_reply.started": "2023-04-18T23:47:31.765661Z"
    }
   },
   "outputs": [],
   "source": [
    "!ls"
   ]
  },
  {
   "cell_type": "code",
   "execution_count": null,
   "metadata": {
    "execution": {
     "iopub.execute_input": "2023-04-18T23:47:39.684390Z",
     "iopub.status.busy": "2023-04-18T23:47:39.683729Z",
     "iopub.status.idle": "2023-04-18T23:47:59.777846Z",
     "shell.execute_reply": "2023-04-18T23:47:59.776600Z",
     "shell.execute_reply.started": "2023-04-18T23:47:39.684346Z"
    },
    "id": "z1EySlOXwwoa",
    "outputId": "816b7523-bf5a-4758-8ae6-7a1a56417b3a"
   },
   "outputs": [],
   "source": [
    "!pip install -r requirements.txt"
   ]
  },
  {
   "cell_type": "markdown",
   "metadata": {
    "id": "8daqlgVhw29P"
   },
   "source": [
    "# Datasets\n",
    "\n",
    "Run one of the cells below to generate the corresponding dataset. They will be stored in the dataset directory, and will automatically be split into trainA, trainB, testA, and testB.\n",
    "\n",
    "Note that you must alter the future commands to reflect which dataset you selected."
   ]
  },
  {
   "cell_type": "code",
   "execution_count": null,
   "metadata": {
    "execution": {
     "iopub.execute_input": "2023-04-04T03:12:26.410857Z",
     "iopub.status.busy": "2023-04-04T03:12:26.410426Z",
     "iopub.status.idle": "2023-04-04T03:12:27.391256Z",
     "shell.execute_reply": "2023-04-04T03:12:27.389849Z",
     "shell.execute_reply.started": "2023-04-04T03:12:26.410815Z"
    }
   },
   "outputs": [],
   "source": [
    "!ls ./datasets"
   ]
  },
  {
   "cell_type": "code",
   "execution_count": null,
   "metadata": {
    "execution": {
     "iopub.execute_input": "2023-04-18T23:47:59.780446Z",
     "iopub.status.busy": "2023-04-18T23:47:59.780122Z",
     "iopub.status.idle": "2023-04-18T23:48:09.857655Z",
     "shell.execute_reply": "2023-04-18T23:48:09.856258Z",
     "shell.execute_reply.started": "2023-04-18T23:47:59.780413Z"
    },
    "id": "uupxB9Yt_u91",
    "outputId": "c6ad0eea-2bb1-4db1-cbaa-b709b094f514"
   },
   "outputs": [],
   "source": [
    "!pip install gdown"
   ]
  },
  {
   "cell_type": "code",
   "execution_count": null,
   "metadata": {
    "id": "MNHhhuHmDqWH",
    "outputId": "34db1303-2470-4767-a3e2-8c356b1c1a29"
   },
   "outputs": [],
   "source": [
    "!gdown --id 1ZqYDxmxAy3QBtW9TH2Be5Vgpz8ma4yfH --output ./datasets/horse2bird.zip\n",
    "!mkdir ./datasets/horse2bird/\n",
    "!unzip ./datasets/horse2bird.zip -d ./datasets/\n",
    "!rm ./datasets/horse2bird.zip"
   ]
  },
  {
   "cell_type": "code",
   "execution_count": null,
   "metadata": {},
   "outputs": [],
   "source": [
    "!gdown --id 1K1wrFBFtUQp7plhnPkg6NV_15vbpZKvV --output ./datasets/reality2minecraft.zip\n",
    "!mkdir ./datasets/reality2minecraft/\n",
    "!unzip ./datasets/reality2minecraft.zip -d ./datasets/\n",
    "!rm ./datasets/reality2minecraft.zip"
   ]
  },
  {
   "cell_type": "code",
   "execution_count": null,
   "metadata": {},
   "outputs": [],
   "source": [
    "!gdown --id 1D2sVZo0bjQwzjajk44jtO96fzVyCsZho --output ./datasets/drawing2horse.zip\n",
    "!mkdir ./datasets/drawing2horse/\n",
    "!unzip ./datasets/drawing2horse.zip -d ./datasets/\n",
    "!rm ./datasets/drawing2horse.zip"
   ]
  },
  {
   "cell_type": "code",
   "execution_count": null,
   "metadata": {},
   "outputs": [],
   "source": [
    "!gdown --id 1oS8Fqf1Kcd4la6wL53Qvoaiu79LDkFIM --output ./datasets/nocolor2color.zip\n",
    "!mkdir ./datasets/nocolor2color/\n",
    "!unzip ./datasets/nocolor2color.zip -d ./datasets/\n",
    "!rm ./datasets/nocolor2color.zip"
   ]
  },
  {
   "cell_type": "code",
   "execution_count": null,
   "metadata": {
    "execution": {
     "iopub.execute_input": "2023-04-18T23:48:09.860661Z",
     "iopub.status.busy": "2023-04-18T23:48:09.859859Z",
     "iopub.status.idle": "2023-04-18T23:48:17.671533Z",
     "shell.execute_reply": "2023-04-18T23:48:17.670072Z",
     "shell.execute_reply.started": "2023-04-18T23:48:09.860612Z"
    }
   },
   "outputs": [],
   "source": [
    "!gdown --id 1PQtRu8lIVcGToYLmcQg1SuCL_rrKQpmr --output ./datasets/mask2nomask.zip\n",
    "!mkdir ./datasets/mask2nomask/\n",
    "!unzip ./datasets/mask2nomask.zip -d ./datasets/\n",
    "!rm ./datasets/mask2nomask.zip"
   ]
  },
  {
   "cell_type": "markdown",
   "metadata": {
    "id": "gdUz4116xhpm"
   },
   "source": [
    "# Pretrained models\n",
    "\n",
    "The following code should only be run if you intend to resume training from a spot you ended at previously."
   ]
  },
  {
   "cell_type": "code",
   "execution_count": null,
   "metadata": {
    "id": "TN_n-23Vovyd",
    "outputId": "5b6b58a1-ea8f-42f9-8b39-25d3a4460d7b"
   },
   "outputs": [],
   "source": [
    "!gdown --id 1ojmEPlviFHV381DfDn0DeOSWroN8SkJ0 --output ./checkpoints/horse2bird.zip\n",
    "!mkdir ./checkpoints/horse2bird/\n",
    "!unzip ./checkpoints/horse2bird.zip -d ./checkpoints/\n",
    "!rm ./checkpoints/horse2bird.zip"
   ]
  },
  {
   "cell_type": "code",
   "execution_count": null,
   "metadata": {
    "execution": {
     "iopub.execute_input": "2023-04-18T23:50:41.377206Z",
     "iopub.status.busy": "2023-04-18T23:50:41.376817Z",
     "iopub.status.idle": "2023-04-18T23:50:52.723751Z",
     "shell.execute_reply": "2023-04-18T23:50:52.722383Z",
     "shell.execute_reply.started": "2023-04-18T23:50:41.377166Z"
    }
   },
   "outputs": [],
   "source": [
    "!mkdir checkpoints\n",
    "!gdown --id 1kXcCpuL7DAg6bY95Vm6tH4_5foRR6_O0 --output ./checkpoints/mask2nomask.zip\n",
    "!zip -d ./checkpoints/mask2nomask.zip __MACOSX/\\*\n",
    "!zip -d ./checkpoints/mask2nomask.zip \\*/.DS_Store\n",
    "!rm -rf ./checkpoints/mask2nomask/\n",
    "!mkdir ./checkpoints/mask2nomask/\n",
    "!unzip ./checkpoints/mask2nomask.zip -d ./checkpoints/mask2nomask/\n",
    "!rm ./checkpoints/mask2nomask.zip\n",
    "!ls ./checkpoints/mask2nomask/"
   ]
  },
  {
   "cell_type": "code",
   "execution_count": null,
   "metadata": {
    "execution": {
     "iopub.execute_input": "2023-04-07T01:30:07.186602Z",
     "iopub.status.busy": "2023-04-07T01:30:07.186204Z",
     "iopub.status.idle": "2023-04-07T01:30:14.392577Z",
     "shell.execute_reply": "2023-04-07T01:30:14.391209Z",
     "shell.execute_reply.started": "2023-04-07T01:30:07.186555Z"
    }
   },
   "outputs": [],
   "source": [
    "!mkdir checkpoints\n",
    "!gdown --id 1LFd0sKjzeUjK-tyLgIq7XZjw-f_aJStO --output ./checkpoints/reality2minecraft.zip\n",
    "!mkdir ./checkpoints/reality2minecraft/\n",
    "!unzip ./checkpoints/reality2minecraft.zip -d ./checkpoints/reality2minecraft/\n",
    "!rm ./checkpoints/reality2minecraft.zip"
   ]
  },
  {
   "cell_type": "markdown",
   "metadata": {
    "id": "yFw1kDQBx3LN"
   },
   "source": [
    "# Training\n",
    "\n",
    "-   `python train.py --dataroot ./datasets/horse2zebra --name horse2zebra --model cycle_gan`\n",
    "\n",
    "Change the `--dataroot` and `--name` to the dataset and model name that you want to use. Use `--gpu_ids 0,1,..` to train on multiple GPUs and `--batch_size` to change the batch size. Our hardware only permitted us to use 2 GPUs.\n",
    "\n",
    "Use the `--continue` flag to train from a preexisting model.\n",
    "\n",
    "Once your model has trained, copy over the last checkpoint to a format that the testing model can automatically detect:\n",
    "\n",
    "Use `cp ./checkpoints/horse2zebra/latest_net_G_A.pth ./checkpoints/horse2zebra/latest_net_G.pth` if you want to transform images from class A to class B and `cp ./checkpoints/horse2zebra/latest_net_G_B.pth ./checkpoints/horse2zebra/latest_net_G.pth` if you want to transform images from class B to class A.\n"
   ]
  },
  {
   "cell_type": "code",
   "execution_count": null,
   "metadata": {
    "execution": {
     "iopub.execute_input": "2023-04-18T23:51:01.732951Z",
     "iopub.status.busy": "2023-04-18T23:51:01.732424Z",
     "iopub.status.idle": "2023-04-19T01:26:31.610714Z",
     "shell.execute_reply": "2023-04-19T01:26:31.609356Z",
     "shell.execute_reply.started": "2023-04-18T23:51:01.732910Z"
    },
    "id": "0sp7TCT2x9dB",
    "outputId": "6f521bb8-22a8-4e9e-c7b2-9a450ef8db02"
   },
   "outputs": [],
   "source": [
    "!python train.py --dataroot ./datasets/mask2nomask --name mask2nomask --model cycle_gan --display_id -1 --n_epochs -50 --batch_size 4 --gpu_ids 0,1 --continue"
   ]
  },
  {
   "cell_type": "markdown",
   "metadata": {},
   "source": [
    "Reduce the model to a format that can be easily downloaded:"
   ]
  },
  {
   "cell_type": "code",
   "execution_count": null,
   "metadata": {
    "execution": {
     "iopub.execute_input": "2023-04-19T01:35:32.873837Z",
     "iopub.status.busy": "2023-04-19T01:35:32.872695Z",
     "iopub.status.idle": "2023-04-19T01:36:44.050537Z",
     "shell.execute_reply": "2023-04-19T01:36:44.049356Z",
     "shell.execute_reply.started": "2023-04-19T01:35:32.873772Z"
    }
   },
   "outputs": [],
   "source": [
    "!zip -r file.zip /kaggle/working/pytorch-CycleGAN-and-pix2pix/checkpoints/mask2nomask"
   ]
  },
  {
   "cell_type": "code",
   "execution_count": null,
   "metadata": {
    "execution": {
     "iopub.execute_input": "2023-04-19T02:59:33.122868Z",
     "iopub.status.busy": "2023-04-19T02:59:33.122225Z",
     "iopub.status.idle": "2023-04-19T02:59:34.094252Z",
     "shell.execute_reply": "2023-04-19T02:59:34.092857Z",
     "shell.execute_reply.started": "2023-04-19T02:59:33.122829Z"
    }
   },
   "outputs": [],
   "source": [
    "!ls"
   ]
  },
  {
   "cell_type": "markdown",
   "metadata": {},
   "source": [
    "<a href=\"./pytorch-CycleGAN-and-pix2pix/file.zip\"> Download File </a>"
   ]
  },
  {
   "cell_type": "markdown",
   "metadata": {
    "id": "9UkcaFZiyASl"
   },
   "source": [
    "# Testing\n",
    "\n",
    "Change the `--dataroot` and `--name` to be consistent with your trained model's configuration.\n",
    "\n",
    "> from https://github.com/junyanz/pytorch-CycleGAN-and-pix2pix:\n",
    "> The option --model test is used for generating results of CycleGAN only for one side. This option will automatically set --dataset_mode single, which only loads the images from one set. On the contrary, using --model cycle_gan requires loading and generating results in both directions, which is sometimes unnecessary. The results will be saved at ./results/. Use --results_dir {directory_path_to_save_result} to specify the results directory.\n",
    "\n",
    "> For your own experiments, you might want to specify --netG, --norm, --no_dropout to match the generator architecture of the trained model."
   ]
  },
  {
   "cell_type": "code",
   "execution_count": null,
   "metadata": {
    "execution": {
     "iopub.execute_input": "2023-04-19T02:20:23.267973Z",
     "iopub.status.busy": "2023-04-19T02:20:23.267480Z",
     "iopub.status.idle": "2023-04-19T02:20:24.513237Z",
     "shell.execute_reply": "2023-04-19T02:20:24.511826Z",
     "shell.execute_reply.started": "2023-04-19T02:20:23.267921Z"
    }
   },
   "outputs": [],
   "source": [
    "!cp ./checkpoints/mask2nomask/latest_net_G_A.pth ./checkpoints/mask2nomask/latest_net_G.pth"
   ]
  },
  {
   "cell_type": "code",
   "execution_count": null,
   "metadata": {
    "execution": {
     "iopub.execute_input": "2023-04-19T02:20:26.933531Z",
     "iopub.status.busy": "2023-04-19T02:20:26.932551Z",
     "iopub.status.idle": "2023-04-19T02:20:39.864706Z",
     "shell.execute_reply": "2023-04-19T02:20:39.863252Z",
     "shell.execute_reply.started": "2023-04-19T02:20:26.933491Z"
    },
    "id": "uCsKkEq0yGh0"
   },
   "outputs": [],
   "source": [
    "!python test.py --dataroot datasets/mask2nomask/testA --name mask2nomask --model test --no_dropout"
   ]
  },
  {
   "cell_type": "markdown",
   "metadata": {
    "id": "OzSKIPUByfiN"
   },
   "source": [
    "# Visualize"
   ]
  },
  {
   "cell_type": "code",
   "execution_count": null,
   "metadata": {
    "_kg_hide-output": true,
    "execution": {
     "iopub.execute_input": "2023-04-19T02:28:27.895564Z",
     "iopub.status.busy": "2023-04-19T02:28:27.895095Z",
     "iopub.status.idle": "2023-04-19T02:28:50.562944Z",
     "shell.execute_reply": "2023-04-19T02:28:50.561340Z",
     "shell.execute_reply.started": "2023-04-19T02:28:27.895517Z"
    },
    "id": "9Mgg8raPyizq"
   },
   "outputs": [],
   "source": [
    "import matplotlib.pyplot as plt\n",
    "import os\n",
    "\n",
    "for file in os.listdir('./results/mask2nomask/test_latest/images/'):\n",
    "    img = plt.imread('./results/mask2nomask/test_latest/images/' + file)\n",
    "    print(file)\n",
    "    plt.imshow(img)\n",
    "    plt.show()"
   ]
  }
 ],
 "metadata": {
  "kernelspec": {
   "display_name": "Python 3 (ipykernel)",
   "language": "python",
   "name": "python3"
  },
  "language_info": {
   "codemirror_mode": {
    "name": "ipython",
    "version": 3
   },
   "file_extension": ".py",
   "mimetype": "text/x-python",
   "name": "python",
   "nbconvert_exporter": "python",
   "pygments_lexer": "ipython3",
   "version": "3.11.0"
  }
 },
 "nbformat": 4,
 "nbformat_minor": 4
}
