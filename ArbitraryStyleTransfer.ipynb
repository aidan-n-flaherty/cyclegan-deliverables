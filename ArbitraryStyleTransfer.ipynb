{
  "cells": [
    {
      "cell_type": "markdown",
      "metadata": {
        "id": "ScitaPqhKtuW"
      },
      "source": [
        "##### Copyright 2019 The TensorFlow Hub Authors.\n",
        "\n",
        "Licensed under the Apache License, Version 2.0 (the \"License\");"
      ]
    },
    {
      "cell_type": "code",
      "execution_count": null,
      "metadata": {
        "execution": {
          "iopub.execute_input": "2022-12-14T12:40:35.079970Z",
          "iopub.status.busy": "2022-12-14T12:40:35.079442Z",
          "iopub.status.idle": "2022-12-14T12:40:35.083348Z",
          "shell.execute_reply": "2022-12-14T12:40:35.082700Z"
        },
        "id": "jvztxQ6VsK2k"
      },
      "outputs": [],
      "source": [
        "# Copyright 2019 The TensorFlow Hub Authors. All Rights Reserved.\n",
        "#\n",
        "# Licensed under the Apache License, Version 2.0 (the \"License\");\n",
        "# you may not use this file except in compliance with the License.\n",
        "# You may obtain a copy of the License at\n",
        "#\n",
        "#     http://www.apache.org/licenses/LICENSE-2.0\n",
        "#\n",
        "# Unless required by applicable law or agreed to in writing, software\n",
        "# distributed under the License is distributed on an \"AS IS\" BASIS,\n",
        "# WITHOUT WARRANTIES OR CONDITIONS OF ANY KIND, either express or implied.\n",
        "# See the License for the specific language governing permissions and\n",
        "# limitations under the License.\n",
        "# =============================================================================="
      ]
    },
    {
      "cell_type": "markdown",
      "metadata": {
        "id": "oXlcl8lqBgAD"
      },
      "source": [
        "# Fast Style Transfer for Arbitrary Styles\n"
      ]
    },
    {
      "cell_type": "markdown",
      "metadata": {
        "id": "YeeuYzbZcJzs"
      },
      "source": [
        "Based on the model code in [magenta](https://github.com/tensorflow/magenta/tree/master/magenta/models/arbitrary_image_stylization) and the publication:\n",
        "\n",
        "[Exploring the structure of a real-time, arbitrary neural artistic stylization\n",
        "network](https://arxiv.org/abs/1705.06830).\n",
        "*Golnaz Ghiasi, Honglak Lee,\n",
        "Manjunath Kudlur, Vincent Dumoulin, Jonathon Shlens*,\n",
        "Proceedings of the British Machine Vision Conference (BMVC), 2017.\n"
      ]
    },
    {
      "cell_type": "markdown",
      "metadata": {
        "id": "TaM8BVxrCA2E"
      },
      "source": [
        "## Setup"
      ]
    },
    {
      "cell_type": "markdown",
      "metadata": {
        "id": "J65jog2ncJzt"
      },
      "source": [
        "Import TF2 and all relevant dependencies:"
      ]
    },
    {
      "cell_type": "code",
      "execution_count": null,
      "metadata": {
        "execution": {
          "iopub.execute_input": "2022-12-14T12:40:35.087293Z",
          "iopub.status.busy": "2022-12-14T12:40:35.086631Z",
          "iopub.status.idle": "2022-12-14T12:40:37.517522Z",
          "shell.execute_reply": "2022-12-14T12:40:37.516741Z"
        },
        "id": "v-KXRY5XBu2u"
      },
      "outputs": [],
      "source": [
        "import functools\n",
        "import os\n",
        "\n",
        "from matplotlib import gridspec\n",
        "import matplotlib.pylab as plt\n",
        "import numpy as np\n",
        "import tensorflow as tf\n",
        "import tensorflow_hub as hub\n",
        "\n",
        "print(\"TF Version: \", tf.__version__)\n",
        "print(\"TF Hub version: \", hub.__version__)\n",
        "print(\"Eager mode enabled: \", tf.executing_eagerly())\n",
        "print(\"GPU available: \", tf.config.list_physical_devices('GPU'))"
      ]
    },
    {
      "cell_type": "code",
      "execution_count": null,
      "metadata": {
        "execution": {
          "iopub.execute_input": "2022-12-14T12:40:37.521282Z",
          "iopub.status.busy": "2022-12-14T12:40:37.520637Z",
          "iopub.status.idle": "2022-12-14T12:40:37.529498Z",
          "shell.execute_reply": "2022-12-14T12:40:37.528867Z"
        },
        "id": "tsoDv_9geoZn"
      },
      "outputs": [],
      "source": [
        "# @title Define image loading and visualization functions  { display-mode: \"form\" }\n",
        "\n",
        "def crop_center(image):\n",
        "  \"\"\"Returns a cropped square image.\"\"\"\n",
        "  shape = image.shape\n",
        "  new_shape = min(shape[1], shape[2])\n",
        "  offset_y = max(shape[1] - shape[2], 0) // 2\n",
        "  offset_x = max(shape[2] - shape[1], 0) // 2\n",
        "  image = tf.image.crop_to_bounding_box(\n",
        "      image, offset_y, offset_x, new_shape, new_shape)\n",
        "  return image\n",
        "\n",
        "@functools.lru_cache(maxsize=None)\n",
        "def load_image(image_url, image_size=(256, 256), preserve_aspect_ratio=True):\n",
        "  \"\"\"Loads and preprocesses images.\"\"\"\n",
        "  # Cache image file locally.\n",
        "  image_path = tf.keras.utils.get_file(os.path.basename(image_url)[-128:], image_url)\n",
        "  # Load and convert to float32 numpy array, add batch dimension, and normalize to range [0, 1].\n",
        "  img = tf.io.decode_image(\n",
        "      tf.io.read_file(image_path),\n",
        "      channels=3, dtype=tf.float32)[tf.newaxis, ...]\n",
        "  img = crop_center(img)\n",
        "  img = tf.image.resize(img, image_size, preserve_aspect_ratio=True)\n",
        "  return img\n",
        "\n",
        "def show_n(images, titles=('',)):\n",
        "  n = len(images)\n",
        "  image_sizes = [image.shape[1] for image in images]\n",
        "  w = (image_sizes[0] * 6) // 320\n",
        "  plt.figure(figsize=(w * n, w))\n",
        "  gs = gridspec.GridSpec(1, n, width_ratios=image_sizes)\n",
        "  for i in range(n):\n",
        "    plt.subplot(gs[i])\n",
        "    plt.imshow(images[i][0], aspect='equal')\n",
        "    plt.axis('off')\n",
        "    plt.title(titles[i] if len(titles) > i else '')\n",
        "  plt.show()\n"
      ]
    },
    {
      "cell_type": "markdown",
      "metadata": {
        "id": "yL2Bn5ThR1nY"
      },
      "source": [
        "## Import TF Hub module"
      ]
    },
    {
      "cell_type": "code",
      "execution_count": null,
      "metadata": {
        "execution": {
          "iopub.execute_input": "2022-12-14T12:40:42.393839Z",
          "iopub.status.busy": "2022-12-14T12:40:42.393226Z",
          "iopub.status.idle": "2022-12-14T12:40:44.741829Z",
          "shell.execute_reply": "2022-12-14T12:40:44.740854Z"
        },
        "id": "467AVDSuzBPc"
      },
      "outputs": [],
      "source": [
        "# Load TF Hub module.\n",
        "\n",
        "hub_handle = 'https://tfhub.dev/google/magenta/arbitrary-image-stylization-v1-256/2'\n",
        "hub_module = hub.load(hub_handle)"
      ]
    },
    {
      "cell_type": "markdown",
      "metadata": {
        "id": "v-gYvjTWK-lx"
      },
      "source": [
        "## Run style transfer on custom datasets"
      ]
    },
    {
      "cell_type": "code",
      "source": [
        "!mkdir datasets\n",
        "!gdown --id 1K1wrFBFtUQp7plhnPkg6NV_15vbpZKvV --output ./datasets/reality2minecraft.zip\n",
        "!mkdir ./datasets/reality2minecraft/\n",
        "!unzip ./datasets/reality2minecraft.zip -d ./datasets/\n",
        "!rm ./datasets/reality2minecraft.zip"
      ],
      "metadata": {
        "id": "4obTM8WH3KeY"
      },
      "execution_count": null,
      "outputs": []
    },
    {
      "cell_type": "code",
      "source": [
        "!mkdir datasets\n",
        "!gdown --id 1D2sVZo0bjQwzjajk44jtO96fzVyCsZho --output ./datasets/drawing2horse.zip\n",
        "!mkdir ./datasets/drawing2horse/\n",
        "!unzip ./datasets/drawing2horse.zip -d ./datasets/\n",
        "!rm ./datasets/drawing2horse.zip"
      ],
      "metadata": {
        "id": "ILz7BPvNx4Yu"
      },
      "execution_count": null,
      "outputs": []
    },
    {
      "cell_type": "code",
      "source": [
        "!mkdir datasets\n",
        "!gdown --id 1PQtRu8lIVcGToYLmcQg1SuCL_rrKQpmr --output ./datasets/mask2nomask.zip\n",
        "!mkdir ./datasets/mask2nomask/\n",
        "!unzip ./datasets/mask2nomask.zip -d ./datasets/\n",
        "!rm ./datasets/mask2nomask.zip"
      ],
      "metadata": {
        "id": "17hU3akhXeJ3"
      },
      "execution_count": null,
      "outputs": []
    },
    {
      "cell_type": "code",
      "source": [
        "from PIL import Image\n",
        "imsize = 256\n",
        "\n",
        "def image_loader(image_name):\n",
        "    image = Image.open(image_name).resize((imsize, imsize)).convert('RGBA')\n",
        "    data = image.getdata()\n",
        "\n",
        "    newData = []\n",
        "    for item in data:\n",
        "        if item[3] == 0:\n",
        "            newData.append((255, 255, 255))\n",
        "        else:\n",
        "            newData.append(item[:3])\n",
        "\n",
        "    image = image.convert('RGB')\n",
        "    image.putdata(newData)\n",
        "    image.save(image_name, \"PNG\")\n",
        "    # fake batch dimension required to fit network's input dimensions\n",
        "    img = tf.io.decode_image(\n",
        "      tf.io.read_file(image_name),\n",
        "      channels=3, dtype=tf.float32)[tf.newaxis, ...]\n",
        "    img = crop_center(img)\n",
        "    img = tf.image.resize(img, (imsize, imsize), preserve_aspect_ratio=True)\n",
        "    return img"
      ],
      "metadata": {
        "id": "0GUB6CSVyQlT"
      },
      "execution_count": null,
      "outputs": []
    },
    {
      "cell_type": "code",
      "source": [
        "dataset = \"./datasets/mask2nomask/\"\n",
        "\n",
        "content_images = {k: image_loader(dataset + \"testA/\" + k) for k in os.listdir(dataset + \"testA\")[:100]}\n",
        "style_images = {k: image_loader(dataset + \"testB/\" + k) for k in os.listdir(dataset + \"testB\")[:100]}"
      ],
      "metadata": {
        "id": "kcppCMQzyZ3Q"
      },
      "execution_count": null,
      "outputs": []
    },
    {
      "cell_type": "code",
      "execution_count": null,
      "metadata": {
        "execution": {
          "iopub.execute_input": "2022-12-14T12:40:54.769401Z",
          "iopub.status.busy": "2022-12-14T12:40:54.768843Z",
          "iopub.status.idle": "2022-12-14T12:40:55.461145Z",
          "shell.execute_reply": "2022-12-14T12:40:55.460440Z"
        },
        "id": "dqB6aNTLNVkK"
      },
      "outputs": [],
      "source": [
        "#@title Specify the main content image and the style you want to use.  { display-mode: \"form\" }\n",
        "\n",
        "for i in range(0, 10):\n",
        "  content_name = list(content_images.keys())[i]\n",
        "  style_name = list(style_images.keys())[i]\n",
        "\n",
        "  stylized_image = hub_module(tf.constant(content_images[content_name]),\n",
        "                              tf.constant(style_images[style_name]))[0]\n",
        "\n",
        "  show_n([content_images[content_name], style_images[style_name], stylized_image],\n",
        "        titles=['Original content image', 'Style image', 'Stylized image'])"
      ]
    }
  ],
  "metadata": {
    "accelerator": "GPU",
    "colab": {
      "private_outputs": true,
      "provenance": []
    },
    "kernelspec": {
      "display_name": "Python 3",
      "name": "python3"
    },
    "language_info": {
      "codemirror_mode": {
        "name": "ipython",
        "version": 3
      },
      "file_extension": ".py",
      "mimetype": "text/x-python",
      "name": "python",
      "nbconvert_exporter": "python",
      "pygments_lexer": "ipython3",
      "version": "3.9.16"
    }
  },
  "nbformat": 4,
  "nbformat_minor": 0
}